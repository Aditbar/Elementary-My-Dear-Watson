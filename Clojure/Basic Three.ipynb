{
 "cells": [
  {
   "cell_type": "markdown",
   "metadata": {},
   "source": [
    "# 3 Clojure expression"
   ]
  },
  {
   "cell_type": "markdown",
   "metadata": {},
   "source": [
    "## 3.6 prime"
   ]
  },
  {
   "cell_type": "code",
   "execution_count": 1,
   "metadata": {},
   "outputs": [
    {
     "data": {
      "text/plain": [
       "#'user/iter-prime"
      ]
     },
     "execution_count": 1,
     "metadata": {},
     "output_type": "execute_result"
    }
   ],
   "source": [
    ";; prima cuma bisa dibagi 1 ma dirinya\n",
    ";; prime? -> 1 & n\n",
    "\n",
    ";; i bakal meningkat\n",
    ";; 5 2\n",
    ";; kondisi :else\n",
    ";; 5 3\n",
    ";; kondisi :else\n",
    ";; 5 4\n",
    ";; kondisi :else\n",
    ";; 5 5\n",
    ";; kondisi 1, true\n",
    "\n",
    "(defn iter-prime\n",
    "    [n i]\n",
    "    (cond (= n i) true\n",
    "          (zero? (rem n i)) false\n",
    "          :else (iter-prime n (inc i))))"
   ]
  },
  {
   "cell_type": "code",
   "execution_count": 9,
   "metadata": {},
   "outputs": [
    {
     "data": {
      "text/plain": [
       "#'user/prime?"
      ]
     },
     "execution_count": 9,
     "metadata": {},
     "output_type": "execute_result"
    }
   ],
   "source": [
    "(defn prime?\n",
    "    [n]\n",
    "    (cond (<= n 1) false\n",
    "          (= n 2) true\n",
    "          :else (iter-prime n 2)))"
   ]
  },
  {
   "cell_type": "code",
   "execution_count": 10,
   "metadata": {},
   "outputs": [
    {
     "data": {
      "text/plain": [
       "true"
      ]
     },
     "execution_count": 10,
     "metadata": {},
     "output_type": "execute_result"
    }
   ],
   "source": [
    "(prime? 3)"
   ]
  },
  {
   "cell_type": "code",
   "execution_count": 11,
   "metadata": {},
   "outputs": [
    {
     "data": {
      "text/plain": [
       "true"
      ]
     },
     "execution_count": 11,
     "metadata": {},
     "output_type": "execute_result"
    }
   ],
   "source": [
    "(prime? 2)"
   ]
  },
  {
   "cell_type": "code",
   "execution_count": 14,
   "metadata": {},
   "outputs": [
    {
     "data": {
      "text/plain": [
       "nil"
      ]
     },
     "execution_count": 14,
     "metadata": {},
     "output_type": "execute_result"
    }
   ],
   "source": [
    "(prime? 4)\n",
    "\n",
    "(comment\n",
    "    4\n",
    "    masuk kondisi :else\n",
    "    masuk ke iter-prime 4 2\n",
    "    masuk kondisi 2, maka false)"
   ]
  },
  {
   "cell_type": "code",
   "execution_count": 15,
   "metadata": {},
   "outputs": [
    {
     "data": {
      "text/plain": [
       "true"
      ]
     },
     "execution_count": 15,
     "metadata": {},
     "output_type": "execute_result"
    }
   ],
   "source": [
    "(prime? 5)"
   ]
  },
  {
   "cell_type": "code",
   "execution_count": 17,
   "metadata": {},
   "outputs": [
    {
     "data": {
      "text/plain": [
       "(2 3 5 7 11 13 17 19 23 29 31 37 41 43 47 53 59 61 67 71 73 79 83 89 97)"
      ]
     },
     "execution_count": 17,
     "metadata": {},
     "output_type": "execute_result"
    }
   ],
   "source": [
    "(filter prime? (range 100))"
   ]
  },
  {
   "cell_type": "code",
   "execution_count": 19,
   "metadata": {},
   "outputs": [
    {
     "data": {
      "text/plain": [
       "#'user/prime?2"
      ]
     },
     "execution_count": 19,
     "metadata": {},
     "output_type": "execute_result"
    }
   ],
   "source": [
    ";; bikin di dalem\n",
    "(defn prime?2\n",
    "    [n]\n",
    "    (let [iter (fn iter [i]\n",
    "                   (cond (= n i) true\n",
    "                         (zero? (rem n i)) false\n",
    "                                :else (iter (inc i))))]\n",
    "        (cond (<= n 1) false\n",
    "              (= n 2) true\n",
    "              :else (iter 2))))"
   ]
  },
  {
   "cell_type": "code",
   "execution_count": 55,
   "metadata": {},
   "outputs": [
    {
     "data": {
      "text/plain": [
       "#'user/prime?3"
      ]
     },
     "execution_count": 55,
     "metadata": {},
     "output_type": "execute_result"
    }
   ],
   "source": [
    ";; kencengin lagi, cek ganjil aja\n",
    ";; genap pasti bukan prime\n",
    "(defn prime?3\n",
    "    [n]\n",
    "    (let [iter (fn iter [i]\n",
    "                   (cond (= n i) true\n",
    "                         (zero? (rem n i)) false\n",
    "                         :else (iter (+ i 2))))]\n",
    "        (cond (<= n 1) false\n",
    "              (= n 2) true\n",
    "              (even? n) false\n",
    "              :else (iter 3))))"
   ]
  },
  {
   "cell_type": "code",
   "execution_count": 51,
   "metadata": {},
   "outputs": [
    {
     "data": {
      "text/plain": [
       "#'user/prime?4"
      ]
     },
     "execution_count": 51,
     "metadata": {},
     "output_type": "execute_result"
    }
   ],
   "source": [
    ";; cara lebih cepet lagi\n",
    ";; prime 48\n",
    ";; 2 3 4 6 8 12 16 24\n",
    ";; semua faktor berpasangan\n",
    ";; cukup cek tengahnya aja\n",
    ";; batasnya akar 48\n",
    "\n",
    "(defn prime?4\n",
    "    [n]\n",
    "    (let [akar-n (Math/sqrt n)\n",
    "          iter (fn iter [i]\n",
    "                   (cond (> i akar-n) true\n",
    "                         (zero? (rem n i)) false\n",
    "                         :else (iter (+ i 2))))]\n",
    "        (cond (<= n 1) false\n",
    "              (= n 2) true\n",
    "              (even? n) false\n",
    "              :else (iter 3))))"
   ]
  },
  {
   "cell_type": "code",
   "execution_count": 74,
   "metadata": {},
   "outputs": [
    {
     "name": "stdout",
     "output_type": "stream",
     "text": [
      "\"Elapsed time: 211.115343 msecs\"\n"
     ]
    },
    {
     "data": {
      "text/plain": [
       "1229"
      ]
     },
     "execution_count": 74,
     "metadata": {},
     "output_type": "execute_result"
    }
   ],
   "source": [
    "(time (count (filter prime? (range 10000))))"
   ]
  },
  {
   "cell_type": "code",
   "execution_count": 75,
   "metadata": {},
   "outputs": [
    {
     "name": "stdout",
     "output_type": "stream",
     "text": [
      "\"Elapsed time: 223.64849 msecs\"\n"
     ]
    },
    {
     "data": {
      "text/plain": [
       "1229"
      ]
     },
     "execution_count": 75,
     "metadata": {},
     "output_type": "execute_result"
    }
   ],
   "source": [
    "(time (count (filter prime?2 (range 10000))))"
   ]
  },
  {
   "cell_type": "code",
   "execution_count": 76,
   "metadata": {},
   "outputs": [
    {
     "name": "stdout",
     "output_type": "stream",
     "text": [
      "\"Elapsed time: 105.536046 msecs\"\n"
     ]
    },
    {
     "data": {
      "text/plain": [
       "1229"
      ]
     },
     "execution_count": 76,
     "metadata": {},
     "output_type": "execute_result"
    }
   ],
   "source": [
    "(time (count (filter prime?3 (range 10000))))"
   ]
  },
  {
   "cell_type": "code",
   "execution_count": 77,
   "metadata": {},
   "outputs": [
    {
     "name": "stdout",
     "output_type": "stream",
     "text": [
      "\"Elapsed time: 1.681739 msecs\"\n"
     ]
    },
    {
     "data": {
      "text/plain": [
       "1229"
      ]
     },
     "execution_count": 77,
     "metadata": {},
     "output_type": "execute_result"
    }
   ],
   "source": [
    "(time (count (filter prime?4 (range 10000))))"
   ]
  },
  {
   "cell_type": "markdown",
   "metadata": {},
   "source": [
    "## 3.8 More recursion"
   ]
  },
  {
   "cell_type": "markdown",
   "metadata": {},
   "source": [
    "### pure recursion"
   ]
  },
  {
   "cell_type": "code",
   "execution_count": 78,
   "metadata": {},
   "outputs": [
    {
     "data": {
      "text/plain": [
       "#'user/fak"
      ]
     },
     "execution_count": 78,
     "metadata": {},
     "output_type": "execute_result"
    }
   ],
   "source": [
    "(defn fak\n",
    "    [n]\n",
    "    (if (<= n 1)\n",
    "        1\n",
    "        (*' n (fak (dec n)))))"
   ]
  },
  {
   "cell_type": "code",
   "execution_count": 81,
   "metadata": {},
   "outputs": [
    {
     "name": "stderr",
     "output_type": "stream",
     "text": [
      "Execution error (StackOverflowError) at user/fak (REPL:3).\n",
      "null\n"
     ]
    },
    {
     "ename": "class java.lang.StackOverflowError",
     "evalue": "",
     "output_type": "error",
     "traceback": [
      "Stack overflow error (stacktrace not available)."
     ]
    }
   ],
   "source": [
    "(time (fak 10000))"
   ]
  },
  {
   "cell_type": "markdown",
   "metadata": {},
   "source": [
    "### stack overflow => kebanyakan stacknya\n",
    "\n",
    "#### loop"
   ]
  },
  {
   "cell_type": "code",
   "execution_count": 85,
   "metadata": {},
   "outputs": [
    {
     "data": {
      "text/plain": [
       "#'user/sum"
      ]
     },
     "execution_count": 85,
     "metadata": {},
     "output_type": "execute_result"
    }
   ],
   "source": [
    "(defn sum\n",
    "    [[x & xs]]\n",
    "    (if x \n",
    "        (+' x (sum xs)) 0))"
   ]
  },
  {
   "cell_type": "code",
   "execution_count": 89,
   "metadata": {},
   "outputs": [
    {
     "name": "stderr",
     "output_type": "stream",
     "text": [
      "Execution error (StackOverflowError) at user/sum (REPL:1).\n",
      "null\n"
     ]
    },
    {
     "ename": "class java.lang.StackOverflowError",
     "evalue": "",
     "output_type": "error",
     "traceback": [
      "Stack overflow error (stacktrace not available)."
     ]
    }
   ],
   "source": [
    "(sum (range 10000))"
   ]
  },
  {
   "cell_type": "code",
   "execution_count": 90,
   "metadata": {},
   "outputs": [
    {
     "data": {
      "text/plain": [
       "#'user/sum'"
      ]
     },
     "execution_count": 90,
     "metadata": {},
     "output_type": "execute_result"
    }
   ],
   "source": [
    "(defn sum'\n",
    "    [lst]\n",
    "    (loop [[x & xs] lst res 0]\n",
    "        (if x\n",
    "            (recur xs (+ res x))\n",
    "            res)))"
   ]
  },
  {
   "cell_type": "code",
   "execution_count": 92,
   "metadata": {},
   "outputs": [
    {
     "data": {
      "text/plain": [
       "499999500000"
      ]
     },
     "execution_count": 92,
     "metadata": {},
     "output_type": "execute_result"
    }
   ],
   "source": [
    "(sum' (range 1000000))"
   ]
  },
  {
   "cell_type": "code",
   "execution_count": 113,
   "metadata": {},
   "outputs": [
    {
     "data": {
      "text/plain": [
       "nil"
      ]
     },
     "execution_count": 113,
     "metadata": {},
     "output_type": "execute_result"
    }
   ],
   "source": [
    ";; jumlah bilangan daro 0 sampe n\n",
    "(defn ngasal\n",
    "    [n]\n",
    "    (loop [i 0 res 0] ;;kondisi awalnya i=0 res=o kayak let\n",
    "        (if (> i n)\n",
    "            res\n",
    "            (recur (+ i 1) (+ res i))))) ;;recur=panggil lagi loopnya tapi kondisi awalnya diganti\n",
    "\n",
    "(comment\n",
    "    ngasal 5\n",
    "    loop => i=0 res=0\n",
    "    if 0 > 5 => false\n",
    "    recur => i=1 res =0\n",
    "    \n",
    "    loop => i=1 res=0\n",
    "    if 1 > 5 => false\n",
    "    recur => i=2 res=1\n",
    "    \n",
    "    loop => i=2 res=1\n",
    "    if 2 > 5 => false\n",
    "    recur => i=3 res=3\n",
    "    \n",
    "    loop => i=3 res=3\n",
    "    if 3 > 5 => false\n",
    "    recur => i=5 res=6\n",
    "    \n",
    "    loop => i=4 res=6\n",
    "    if 4 > 5 => false\n",
    "    recur => i=5 res=10\n",
    "    \n",
    "    loop => i=5 res=10\n",
    "    if 5 > 5 => false\n",
    "    recur => i=6 res=15\n",
    "    \n",
    "    loop => i=6 res=15\n",
    "    if 6 > 5 => true\n",
    "    res = 15)\n",
    "\n"
   ]
  },
  {
   "cell_type": "code",
   "execution_count": 114,
   "metadata": {},
   "outputs": [
    {
     "data": {
      "text/plain": [
       "15"
      ]
     },
     "execution_count": 114,
     "metadata": {},
     "output_type": "execute_result"
    }
   ],
   "source": [
    "(ngasal 5)"
   ]
  }
 ],
 "metadata": {
  "kernelspec": {
   "display_name": "Clojure (clojupyter-v0.2.2)",
   "language": "clojure",
   "name": "clojupyter"
  },
  "language_info": {
   "file_extension": ".clj",
   "mimetype": "text/x-clojure",
   "name": "clojure",
   "version": "1.10.0"
  }
 },
 "nbformat": 4,
 "nbformat_minor": 2
}
