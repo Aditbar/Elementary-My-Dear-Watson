{
 "cells": [
  {
   "cell_type": "code",
   "execution_count": 1,
   "metadata": {},
   "outputs": [
    {
     "name": "stdout",
     "output_type": "stream",
     "text": [
      "Hello World\n"
     ]
    }
   ],
   "source": [
    "print(\"Hello World\")"
   ]
  },
  {
   "cell_type": "code",
   "execution_count": 2,
   "metadata": {},
   "outputs": [
    {
     "name": "stdout",
     "output_type": "stream",
     "text": [
      "5.1\n",
      "1.5\n"
     ]
    }
   ],
   "source": [
    "# Data type\n",
    "# Float (desimal)\n",
    "# Di Phyton gak masalah int gabung float\n",
    "print(0.1+5)\n",
    "# Pembagian menghasilkan nilai float\n",
    "print(3/2)"
   ]
  },
  {
   "cell_type": "code",
   "execution_count": 3,
   "metadata": {},
   "outputs": [
    {
     "name": "stdout",
     "output_type": "stream",
     "text": [
      "2.5\n",
      "2\n",
      "1\n",
      "125\n"
     ]
    }
   ],
   "source": [
    "# pembagian\n",
    "print(5/2)\n",
    "# Pembagian tanpa koma\n",
    "print(5//2)\n",
    "# sisa pembagian\n",
    "print(5%2)\n",
    "# pangkat \n",
    "print(5**3)"
   ]
  },
  {
   "cell_type": "code",
   "execution_count": 4,
   "metadata": {},
   "outputs": [
    {
     "name": "stdout",
     "output_type": "stream",
     "text": [
      "Penjumlahan a + b =  7\n"
     ]
    }
   ],
   "source": [
    "a = 5\n",
    "b = 2\n",
    "print(\"Penjumlahan a + b = \", a+b)"
   ]
  },
  {
   "cell_type": "code",
   "execution_count": 5,
   "metadata": {},
   "outputs": [
    {
     "name": "stdout",
     "output_type": "stream",
     "text": [
      "jalan - jalan di hari jum'at\n",
      "jalan - jalan di hari jum'at\n",
      "Budi berkata, \"Kemaren kemana bro?\"\n",
      "Supri menjawab, \"Pasar dong boi\"\n"
     ]
    }
   ],
   "source": [
    "# STRING\n",
    "text = 'jalan - jalan di hari jum\\'at'\n",
    "print(text)\n",
    "\n",
    "text2 = \"jalan - jalan di hari jum'at\"\n",
    "print(text2)\n",
    "\n",
    "text3 = 'Budi berkata, \"Kemaren kemana bro?\"'\n",
    "print(text3)\n",
    "\n",
    "text4 = \"Supri menjawab, \\\"Pasar dong boi\\\"\"\n",
    "print(text4)"
   ]
  },
  {
   "cell_type": "code",
   "execution_count": 6,
   "metadata": {},
   "outputs": [
    {
     "name": "stdout",
     "output_type": "stream",
     "text": [
      "Budi berkata, \"Kemaren kemana bro?\" \n",
      "Supri menjawab, \"Pasar dong boi\" \n",
      "\n",
      "\"\"\n",
      "Budi berkata, \"Kemaren kemana bro?\"\n",
      "Supri menjawab, \"Pasar dong boi\"\n",
      "Budi berkata, \"Buset gua gak diajak!\"\n",
      "Supri berkata, \"Lah elu bangunnya siang\" \n",
      " \n",
      "\n",
      "C:\\pasar\n"
     ]
    }
   ],
   "source": [
    "# Multi\n",
    "text5 = 'Budi berkata, \"Kemaren kemana bro?\" \\nSupri menjawab, \"Pasar dong boi\" \\n'\n",
    "print(text5)\n",
    "\n",
    "text6 = \"\"\"\"\"\n",
    "Budi berkata, \"Kemaren kemana bro?\"\n",
    "Supri menjawab, \"Pasar dong boi\"\n",
    "Budi berkata, \"Buset gua gak diajak!\"\n",
    "Supri berkata, \"Lah elu bangunnya siang\" \\n \n",
    "\"\"\"\"\"\n",
    "print(text6)\n",
    "\n",
    "text7 = r'C:\\pasar' # raw string\n",
    "print(text7)"
   ]
  },
  {
   "cell_type": "code",
   "execution_count": 7,
   "metadata": {},
   "outputs": [
    {
     "name": "stdout",
     "output_type": "stream",
     "text": [
      "wkwkwkwkwk\n",
      "kuepukis\n",
      "jalan - jalan di hari jum'atjalan - jalan di hari jum'at\n"
     ]
    }
   ],
   "source": [
    "print(5*\"wk\")\n",
    "print('kue' 'pukis') #nyambung otomatis\n",
    "# print(text text1) #kayak gini gak bisa\n",
    "print(text + text2)"
   ]
  },
  {
   "cell_type": "code",
   "execution_count": 8,
   "metadata": {},
   "outputs": [
    {
     "name": "stdout",
     "output_type": "stream",
     "text": [
      "p\n",
      "r\n",
      "pisang\n"
     ]
    }
   ],
   "source": [
    "text8 = \"pisang goreng\"\n",
    "a = text8[0] #ambil dari depan dengan awal 0\n",
    "print(a)\n",
    "\n",
    "b = text8[-4] #ambil dari belakang\n",
    "print(b)\n",
    "\n",
    "c = text8[0:6] #mulai dari 0 sampe huruf ke 5\n",
    "print(c)"
   ]
  },
  {
   "cell_type": "code",
   "execution_count": 9,
   "metadata": {},
   "outputs": [
    {
     "name": "stdout",
     "output_type": "stream",
     "text": [
      "16\n",
      "36\n",
      "[9, 16]\n",
      "[9, 16, 25, 36, 49, 64]\n",
      "[1, 4, 9, 16, 25, 36, 49, 64, 100, 200, 300, 400, 500, 600, 700, 800]\n",
      "[1, 4, 9, 16, 25, 36, 49, 64]\n",
      "[1, 4, 9, 16, 87, 36, 49, 64]\n",
      "[[1, 4, 9, 16, 25, 36, 49, 64, 100, 200, 300, 400, 500, 600, 700, 800], [100, 200, 300, 400, 500, 600, 700, 800]]\n",
      "16\n"
     ]
    }
   ],
   "source": [
    "# LIST \n",
    "#kayak Array di bahasa lain\n",
    "\n",
    "Data1 = [1,4,9,16,25,36,49,64]\n",
    "# mengakses list\n",
    "subdata1 = Data1[3]\n",
    "subdata2 = Data1[-3]\n",
    "\n",
    "print(subdata1)\n",
    "print(subdata2)\n",
    "\n",
    "# memotong list\n",
    "subdata3 = Data1[2:4]\n",
    "subdata4 = Data1[2:] #mulai dimana, terus ke kanan\n",
    "\n",
    "print(subdata3)\n",
    "print(subdata4)\n",
    "\n",
    "# gabung list\n",
    "Data2 = [100,200,300,400,500,600,700,800]\n",
    "Data = Data1 + Data2\n",
    "\n",
    "print(Data) # kalo di matlab di jumlah, di phyton di gabung\n",
    "\n",
    "# Merubah elemen dari list\n",
    "print(Data1)\n",
    "Data1[4]= 87\n",
    "print(Data1)\n",
    "\n",
    "# Warning, Mengcopy list ke variabel baru\n",
    "#a = data # a dan data ngelink, bukan copy, kalo a berubah 'data' berubah\n",
    "#b = data[:] # b adalah semua elemen dari data, copy, kalo b berubah 'data' gak berubah\n",
    "\n",
    "# List dalam list\n",
    "x = [Data,Data2]\n",
    "print(x)\n",
    "\n",
    "y = x[0][3] #ambil list urutan pertama, terus dari list pertama ambil yang ke 4\n",
    "print(y)"
   ]
  },
  {
   "cell_type": "code",
   "execution_count": 10,
   "metadata": {},
   "outputs": [
    {
     "name": "stdout",
     "output_type": "stream",
     "text": [
      "nilai anda 75\n"
     ]
    }
   ],
   "source": [
    "# IF ELIF ELSE\n",
    "nilai = 75\n",
    "\n",
    "if nilai == 75:\n",
    "    print(\"nilai anda\", nilai)\n",
    "\n",
    "if nilai == 80:\n",
    "    print(\"nilai anda\", nilai)"
   ]
  },
  {
   "cell_type": "code",
   "execution_count": 11,
   "metadata": {},
   "outputs": [
    {
     "name": "stdout",
     "output_type": "stream",
     "text": [
      "nilai anda 75\n",
      "step 1\n",
      "nilai anda 80\n",
      "step 2\n"
     ]
    }
   ],
   "source": [
    "nilai1 = 75\n",
    "nilai2 = 80\n",
    "\n",
    "if nilai1 == 75:\n",
    "    print(\"nilai anda\", nilai1)\n",
    "    print(\"step 1\")\n",
    "    if nilai2 == 80:\n",
    "        print(\"nilai anda\", nilai2)\n",
    "        print(\"step 2\")"
   ]
  },
  {
   "cell_type": "code",
   "execution_count": 12,
   "metadata": {},
   "outputs": [],
   "source": [
    "nilai1 = 60\n",
    "nilai2 = 80\n",
    "\n",
    "if nilai1 == 75:\n",
    "    print(\"nilai anda\", nilai1)\n",
    "    print(\"step 1\")\n",
    "    if nilai2 == 80:\n",
    "        print(\"nilai anda\", nilai2)\n",
    "        print(\"step 2\")"
   ]
  },
  {
   "cell_type": "code",
   "execution_count": 13,
   "metadata": {},
   "outputs": [],
   "source": [
    "# tidak ada yang keluar karena if pertama saja tidka memenuhi"
   ]
  },
  {
   "cell_type": "code",
   "execution_count": 14,
   "metadata": {},
   "outputs": [
    {
     "name": "stdout",
     "output_type": "stream",
     "text": [
      "nilai kamu 50\n"
     ]
    }
   ],
   "source": [
    "nilai = 50\n",
    "\n",
    "if nilai == 75:\n",
    "    print(\"nilai anda\", nilai)\n",
    "\n",
    "if nilai is not 60: #kalo gak pake is, gak jalan\n",
    "    print(\"nilai kamu\", nilai)\n",
    "    "
   ]
  },
  {
   "cell_type": "code",
   "execution_count": 15,
   "metadata": {},
   "outputs": [
    {
     "name": "stdout",
     "output_type": "stream",
     "text": [
      "====================================================================================================\n",
      "nilai anda adalah C\n"
     ]
    }
   ],
   "source": [
    "print(100*\"=\")\n",
    "\n",
    "nilai = 65\n",
    "\n",
    "if 80 <= nilai <= 100:\n",
    "    print(\"nilai anda adalah A\")\n",
    "elif 70 <= nilai < 80:\n",
    "    print(\"nilai anda adalah B\")\n",
    "elif 60 <= nilai < 70:\n",
    "    print(\"nilai anda adalah C\")\n",
    "elif 50 <= nilai < 60:\n",
    "    print(\"nilai anda adalah D, lakukan perbaikan\")\n",
    "else:\n",
    "    print(\"anda tidak lulus\")"
   ]
  },
  {
   "cell_type": "code",
   "execution_count": 16,
   "metadata": {},
   "outputs": [
    {
     "name": "stdout",
     "output_type": "stream",
     "text": [
      "++++++++++++++++++++++++++++++++++++++++++++++++++++++++++++++++++++++++++++++++++++++++++++++++++++\n",
      "operator logika untuk list dan string\n",
      " \n",
      "Mamamg bilang, \"ya saya jual cireng \"\n",
      "Mamamg bilang, \"saya gak jual babat \"\n",
      "tidak ada z di cireng\n"
     ]
    }
   ],
   "source": [
    "print(100*\"+\")\n",
    "print(\"operator logika untuk list dan string\")\n",
    "print(\" \")\n",
    "\n",
    "gorengan=[\"bakwan\",\"cireng\",\"bala-bala\",\"gehu\",\"combro\",\"pisang goreng\",\"pukis\",\"risol\"]\n",
    "beli = \"cireng\"\n",
    "beli2 = \"babat\"\n",
    "\n",
    "if beli in gorengan:\n",
    "    print('Mamamg bilang, \"ya saya jual',beli,'\"')\n",
    "    \n",
    "if not beli2 in gorengan:\n",
    "    print('Mamamg bilang, \"saya gak jual',beli2,'\"')\n",
    "    \n",
    "# bisa pake buat ngecek\n",
    "karakter = \"z\"\n",
    "if karakter in beli:\n",
    "    print(\"ada\", karakter, \"di\", beli)\n",
    "else:\n",
    "    print(\"tidak ada\", karakter, \"di\", beli)"
   ]
  },
  {
   "cell_type": "code",
   "execution_count": 17,
   "metadata": {},
   "outputs": [
    {
     "name": "stdout",
     "output_type": "stream",
     "text": [
      "bakwan\n",
      "6\n",
      "cireng\n",
      "6\n",
      "tahu isi\n",
      "8\n",
      "tempe goreng\n",
      "12\n",
      "ubi goreng\n",
      "10\n"
     ]
    }
   ],
   "source": [
    "# FOR LOOP\n",
    "\n",
    "gorengan = ['bakwan','cireng','tahu isi','tempe goreng','ubi goreng']\n",
    "\n",
    "# mengambil komponen g dalam gorengan\n",
    "# dalam kasus ini komponen g berisis bakwan, cireng, tahu isi, tempe goreng, ubi goreng\n",
    "for g in gorengan:\n",
    "    print(g)\n",
    "    print(len(g))"
   ]
  },
  {
   "cell_type": "code",
   "execution_count": 18,
   "metadata": {},
   "outputs": [
    {
     "name": "stdout",
     "output_type": "stream",
     "text": [
      "bakwan\n",
      "cireng\n",
      "tahu isi\n",
      "tempe goreng\n",
      "ubi goreng\n",
      "10\n"
     ]
    }
   ],
   "source": [
    "for g in gorengan:\n",
    "    print(g)\n",
    "print(len(g)) # lihat perbedaannya dengan yang atas"
   ]
  },
  {
   "cell_type": "code",
   "execution_count": 19,
   "metadata": {},
   "outputs": [
    {
     "name": "stdout",
     "output_type": "stream",
     "text": [
      "b\n",
      "a\n",
      "k\n",
      "w\n",
      "a\n",
      "n\n"
     ]
    }
   ],
   "source": [
    "# string sebagai iterable\n",
    "bakwan = 'bakwan'\n",
    "\n",
    "for i in bakwan:\n",
    "    print(i)"
   ]
  },
  {
   "cell_type": "code",
   "execution_count": 20,
   "metadata": {},
   "outputs": [
    {
     "name": "stdout",
     "output_type": "stream",
     "text": [
      "['bakwan', 'cireng', 'tahu isi', 'tempe goreng', 'ubi goreng']\n",
      "bakwan\n",
      "cireng\n",
      "tahu isi\n",
      "tempe goreng\n",
      "ubi goreng\n",
      "['semangka', 'jeruk', 'apel', 'anggur']\n",
      "semangka\n",
      "jeruk\n",
      "apel\n",
      "anggur\n",
      "['kangkung', 'wortel', 'tomtat', 'kentang']\n",
      "kangkung\n",
      "wortel\n",
      "tomtat\n",
      "kentang\n"
     ]
    }
   ],
   "source": [
    "# for di dalam for\n",
    "\n",
    "Buah = ['semangka', 'jeruk', 'apel', 'anggur']\n",
    "Sayur = ['kangkung','wortel','tomtat','kentang']\n",
    "\n",
    "Daftar_belanja = [gorengan, Buah, Sayur]\n",
    "\n",
    "for subDaftarBelanja in Daftar_belanja:\n",
    "    print(subDaftarBelanja)\n",
    "    for komponen in subDaftarBelanja:\n",
    "        print(komponen)"
   ]
  },
  {
   "cell_type": "code",
   "execution_count": 21,
   "metadata": {},
   "outputs": [
    {
     "name": "stdout",
     "output_type": "stream",
     "text": [
      "0\n",
      "1\n",
      "2\n",
      "3\n",
      "4\n",
      "5\n",
      "6\n",
      "7\n",
      "8\n",
      "9\n",
      "10\n",
      "11\n",
      "12\n",
      "13\n",
      "14\n",
      "15\n",
      "16\n",
      "17\n",
      "18\n",
      "19\n",
      "20\n",
      "21\n",
      "22\n",
      "23\n",
      "24\n",
      "25\n",
      "angka ditemukan 25\n",
      "26\n",
      "27\n",
      "28\n",
      "29\n",
      "30\n",
      "31\n",
      "32\n",
      "33\n",
      "34\n",
      "35\n",
      "36\n",
      "37\n",
      "38\n",
      "39\n"
     ]
    }
   ],
   "source": [
    "# TANPA BREAK\n",
    "\n",
    "#mencari angka 25\n",
    "\n",
    "number = 25;\n",
    "for i in range(0,40,1):\n",
    "    print(i)\n",
    "    if i is 25:\n",
    "        print('angka ditemukan',i)"
   ]
  },
  {
   "cell_type": "code",
   "execution_count": 22,
   "metadata": {},
   "outputs": [
    {
     "name": "stdout",
     "output_type": "stream",
     "text": [
      "0\n",
      "1\n",
      "2\n",
      "3\n",
      "4\n",
      "5\n",
      "6\n",
      "7\n",
      "8\n",
      "9\n",
      "10\n",
      "11\n",
      "12\n",
      "13\n",
      "14\n",
      "15\n",
      "16\n",
      "17\n",
      "18\n",
      "19\n",
      "20\n",
      "21\n",
      "22\n",
      "23\n",
      "24\n",
      "25\n",
      "angka ditemukan 25\n"
     ]
    }
   ],
   "source": [
    "# BREAK = Fungsinya mengakhiri for (terminasi)\n",
    "\n",
    "#mencari angka 25\n",
    "\n",
    "number = 25;\n",
    "for i in range(0,40,1):\n",
    "    print(i)\n",
    "    if i is 25:\n",
    "        print('angka ditemukan',i)\n",
    "        break\n",
    "    \n"
   ]
  },
  {
   "cell_type": "code",
   "execution_count": 23,
   "metadata": {},
   "outputs": [
    {
     "name": "stdout",
     "output_type": "stream",
     "text": [
      "0\n",
      "1\n",
      "2\n",
      "3\n",
      "4\n",
      "5\n",
      "6\n",
      "7\n",
      "8\n",
      "9\n",
      "10\n",
      "11\n",
      "12\n",
      "13\n",
      "14\n",
      "15\n",
      "16\n",
      "17\n",
      "18\n",
      "19\n",
      "20\n",
      "21\n",
      "22\n",
      "23\n",
      "24\n",
      "25\n",
      "26\n",
      "27\n",
      "28\n",
      "29\n",
      "30\n",
      "31\n",
      "32\n",
      "33\n",
      "34\n",
      "35\n",
      "36\n",
      "37\n",
      "38\n",
      "39\n",
      "angka tidak ditemukan\n",
      "space di luar for\n"
     ]
    }
   ],
   "source": [
    "#tidak menemukan angka 25\n",
    "\n",
    "number = 125;\n",
    "for i in range(0,40,1):\n",
    "    print(i)\n",
    "    if i is number:\n",
    "        print('angka ditemukan',i)\n",
    "        break\n",
    "else:\n",
    "    print('angka tidak ditemukan')\n",
    "    \n",
    "print(\"space di luar for\")"
   ]
  },
  {
   "cell_type": "code",
   "execution_count": 24,
   "metadata": {},
   "outputs": [
    {
     "name": "stdout",
     "output_type": "stream",
     "text": [
      "nilai saat ini 1\n",
      "nilai saat ini 2\n",
      "nilai saat ini 3\n",
      "nilai saat ini 4\n",
      "nilai saat ini 5\n",
      "nilai i adalah 6\n",
      "cek bro 1\n",
      "nilai saat ini 6\n",
      "nilai saat ini 7\n",
      "nilai saat ini 8\n",
      "nilai saat ini 9\n",
      "akhir dari loop\n",
      "print di luar loop\n"
     ]
    }
   ],
   "source": [
    "# TANPA CONTINUE\n",
    "\n",
    "for i in range(1,10):\n",
    "    \n",
    "    if i is 6:\n",
    "        print('nilai i adalah', 6)\n",
    "        print(\"cek bro 1\")\n",
    "    print(\"nilai saat ini\", i)\n",
    "else:\n",
    "    print(\"akhir dari loop\")\n",
    "print(\"print di luar loop\")"
   ]
  },
  {
   "cell_type": "code",
   "execution_count": 25,
   "metadata": {},
   "outputs": [
    {
     "name": "stdout",
     "output_type": "stream",
     "text": [
      "nilai saat ini 1\n",
      "nilai saat ini 2\n",
      "nilai saat ini 3\n",
      "nilai saat ini 4\n",
      "nilai saat ini 5\n",
      "nilai i adalah 6\n",
      "nilai saat ini 7\n",
      "nilai saat ini 8\n",
      "nilai saat ini 9\n",
      "akhir dari loop\n",
      "print di luar loop\n"
     ]
    }
   ],
   "source": [
    "# CONTINUE = fungsinya melanjutkan ke step berikutnya\n",
    "\n",
    "for i in range(1,10):\n",
    "    \n",
    "    if i is 6:\n",
    "        print('nilai i adalah', 6)\n",
    "        continue\n",
    "        print(\"cek bro 1\")\n",
    "    print(\"nilai saat ini\", i)\n",
    "else:\n",
    "    print(\"akhir dari loop\")\n",
    "print(\"print di luar loop\")"
   ]
  },
  {
   "cell_type": "code",
   "execution_count": 26,
   "metadata": {},
   "outputs": [
    {
     "name": "stdout",
     "output_type": "stream",
     "text": [
      "nilai saat ini 1\n",
      "nilai saat ini 2\n",
      "nilai saat ini 3\n",
      "nilai saat ini 4\n",
      "nilai saat ini 5\n",
      "nilai i adalah 6\n",
      "cek bro 1\n",
      "nilai saat ini 6\n",
      "nilai saat ini 7\n",
      "nilai saat ini 8\n",
      "nilai saat ini 9\n",
      "akhir dari loop\n",
      "print di luar loop\n"
     ]
    }
   ],
   "source": [
    "# PASS = fungsinya dummy looping, dummy function (dilewatin)\n",
    "\n",
    "for i in range(1,10):\n",
    "    \n",
    "    if i is 6:\n",
    "        print('nilai i adalah', 6)\n",
    "        pass\n",
    "        print(\"cek bro 1\")\n",
    "    print(\"nilai saat ini\", i)\n",
    "else:\n",
    "    print(\"akhir dari loop\")\n",
    "print(\"print di luar loop\")"
   ]
  },
  {
   "cell_type": "code",
   "execution_count": 27,
   "metadata": {},
   "outputs": [
    {
     "name": "stdout",
     "output_type": "stream",
     "text": [
      "niali angka adalah 0\n",
      "niali angka adalah 1\n",
      "niali angka adalah 2\n",
      "niali angka adalah 3\n",
      "niali angka adalah 4\n",
      "di luar while\n"
     ]
    }
   ],
   "source": [
    "# WHILE LOOP\n",
    "\n",
    "angka = 0\n",
    "\n",
    "while angka < 5: #berhenti saat false\n",
    "    print('niali angka adalah', angka)\n",
    "    angka = angka + 1\n",
    "print('di luar while')"
   ]
  },
  {
   "cell_type": "code",
   "execution_count": 28,
   "metadata": {},
   "outputs": [
    {
     "name": "stdout",
     "output_type": "stream",
     "text": [
      "ini didalam while\n",
      "ini didalam while\n",
      "ini didalam while\n",
      "ini didalam while\n",
      "ini didalam while\n",
      "ini didalam while\n",
      "ini didalam while\n",
      "ini didalam while\n",
      "ini didalam while\n",
      "ini didalam while\n",
      "ini didalam while\n",
      "ini didalam while\n",
      "ini didalam while\n",
      "ini didalam while\n",
      "ini didalam while\n",
      "ini didalam while\n",
      "ini didalam while\n",
      "ini didalam while\n",
      "ini didalam while\n",
      "ini didalam while\n",
      "ini didalam while\n",
      "ini didalam while\n",
      "ini didalam while\n",
      "ini didalam while\n",
      "ini didalam while\n",
      "ini didalam while\n",
      "ini didalam while\n",
      "ini didalam while\n",
      "ini didalam while\n",
      "ini didalam while\n",
      "ini didalam while\n",
      "ini didalam while\n",
      "ini didalam while\n",
      "ini didalam while\n",
      "ini didalam while\n",
      "ini didalam while\n",
      "ini didalam while\n",
      "ini didalam while\n",
      "ini didalam while\n",
      "ini didalam while\n",
      "ini didalam while\n",
      "ini didalam while\n",
      "ini didalam while\n",
      "ini didalam while\n",
      "ini didalam while\n",
      "ini didalam while\n",
      "ini didalam while\n",
      "ini didalam while\n",
      "ini didalam while\n",
      "ini didalam while\n",
      "ini didalam while\n",
      "ini didalam while\n",
      "ini didalam while\n",
      "ini didalam while\n",
      "ini didalam while\n",
      "ini didalam while\n",
      "ini didalam while\n",
      "ini didalam while\n",
      "ini didalam while\n",
      "ini didalam while\n",
      "ini didalam while\n",
      "ini didalam while\n",
      "ini didalam while\n",
      "ini didalam while\n",
      "ini didalam while\n",
      "ini didalam while\n",
      "ini didalam while\n",
      "ini didalam while\n",
      "ini didalam while\n",
      "ini didalam while\n",
      "ini didalam while\n",
      "ini didalam while\n",
      "ini didalam while\n",
      "ini didalam while\n",
      "ini didalam while\n",
      "ini didalam while\n",
      "ini didalam while\n",
      "ini didalam while\n",
      "ini didalam while\n",
      "ini didalam while\n",
      "ini didalam while\n",
      "ini didalam while\n",
      "ini didalam while\n",
      "ini didalam while\n",
      "ini didalam while\n",
      "ini didalam while\n",
      "ini didalam while\n",
      "ini didalam while\n",
      "ini didalam while\n",
      "ini didalam while\n",
      "ini didalam while\n",
      "ini didalam while\n",
      "ini didalam while\n",
      "ini didalam while\n",
      "ini didalam while\n",
      "ini didalam while\n",
      "ini didalam while\n",
      "ini didalam while\n",
      "ini didalam while\n",
      "ini didalam while\n",
      "ini didalam while\n",
      "oke angka 100 ditemukan\n"
     ]
    }
   ],
   "source": [
    "start = True;\n",
    "angka = 0\n",
    "\n",
    "while start:\n",
    "    print('ini didalam while')\n",
    "    if angka is 100:\n",
    "        start = False\n",
    "        print('oke angka 100 ditemukan')\n",
    "    angka += 1"
   ]
  },
  {
   "cell_type": "code",
   "execution_count": 29,
   "metadata": {},
   "outputs": [
    {
     "name": "stdout",
     "output_type": "stream",
     "text": [
      "niali angka adalah 0\n",
      "niali angka adalah 1\n",
      "niali angka adalah 2\n",
      "niali angka adalah 3\n",
      "niali angka adalah 4\n",
      "nilai angka diakhir while adalah 5\n"
     ]
    }
   ],
   "source": [
    "angka = 0\n",
    "\n",
    "while angka < 5: #berhenti saat false\n",
    "    print('niali angka adalah', angka)\n",
    "    angka = angka + 1\n",
    "else: #5 akan masuk ke sini\n",
    "    print('nilai angka diakhir while adalah', angka)"
   ]
  },
  {
   "cell_type": "code",
   "execution_count": 30,
   "metadata": {},
   "outputs": [
    {
     "name": "stdout",
     "output_type": "stream",
     "text": [
      "nilai angka adalah 0\n",
      "nilai angka adalah 1\n",
      "nilai angka adalah 2\n",
      "nilai angka adalah 3\n",
      "nilai angka adalah 4\n",
      "diluar while\n"
     ]
    }
   ],
   "source": [
    "angka = 0\n",
    "\n",
    "while angka < 10: #berhenti saat false\n",
    "    if angka is 5:\n",
    "        break\n",
    "        \n",
    "    print('nilai angka adalah', angka)\n",
    "    angka = angka + 1\n",
    "else: #5 akan masuk ke sini\n",
    "    print('nilai angka diakhir while adalah', angka)\n",
    "\n",
    "print('diluar while')"
   ]
  },
  {
   "cell_type": "code",
   "execution_count": 55,
   "metadata": {},
   "outputs": [],
   "source": [
    "def ngasal(a,b,c):\n",
    "    a+b-c"
   ]
  },
  {
   "cell_type": "code",
   "execution_count": 57,
   "metadata": {},
   "outputs": [
    {
     "name": "stdout",
     "output_type": "stream",
     "text": [
      "None\n"
     ]
    }
   ],
   "source": [
    "print(ngasal(2,3,4))"
   ]
  },
  {
   "cell_type": "code",
   "execution_count": 49,
   "metadata": {},
   "outputs": [
    {
     "name": "stdout",
     "output_type": "stream",
     "text": [
      "1\n"
     ]
    },
    {
     "data": {
      "text/plain": [
       "NoneType"
      ]
     },
     "execution_count": 49,
     "metadata": {},
     "output_type": "execute_result"
    }
   ],
   "source": [
    "type(ngasal(2,3,4))"
   ]
  },
  {
   "cell_type": "code",
   "execution_count": 54,
   "metadata": {},
   "outputs": [
    {
     "name": "stdout",
     "output_type": "stream",
     "text": [
      "5\n"
     ]
    },
    {
     "ename": "TypeError",
     "evalue": "unsupported operand type(s) for +: 'NoneType' and 'int'",
     "output_type": "error",
     "traceback": [
      "\u001b[1;31m---------------------------------------------------------------------------\u001b[0m",
      "\u001b[1;31mTypeError\u001b[0m                                 Traceback (most recent call last)",
      "\u001b[1;32m<ipython-input-54-8f0d626004aa>\u001b[0m in \u001b[0;36m<module>\u001b[1;34m\u001b[0m\n\u001b[1;32m----> 1\u001b[1;33m \u001b[0mngasal\u001b[0m\u001b[1;33m(\u001b[0m\u001b[1;36m5\u001b[0m\u001b[1;33m,\u001b[0m\u001b[1;36m2\u001b[0m\u001b[1;33m,\u001b[0m\u001b[1;36m2\u001b[0m\u001b[1;33m)\u001b[0m\u001b[1;33m+\u001b[0m\u001b[1;36m5\u001b[0m\u001b[1;33m\u001b[0m\u001b[1;33m\u001b[0m\u001b[0m\n\u001b[0m",
      "\u001b[1;31mTypeError\u001b[0m: unsupported operand type(s) for +: 'NoneType' and 'int'"
     ]
    }
   ],
   "source": [
    "ngasal(5,2,2)+5"
   ]
  },
  {
   "cell_type": "code",
   "execution_count": null,
   "metadata": {},
   "outputs": [],
   "source": []
  }
 ],
 "metadata": {
  "kernelspec": {
   "display_name": "Python 3",
   "language": "python",
   "name": "python3"
  },
  "language_info": {
   "codemirror_mode": {
    "name": "ipython",
    "version": 3
   },
   "file_extension": ".py",
   "mimetype": "text/x-python",
   "name": "python",
   "nbconvert_exporter": "python",
   "pygments_lexer": "ipython3",
   "version": "3.6.7"
  }
 },
 "nbformat": 4,
 "nbformat_minor": 2
}
