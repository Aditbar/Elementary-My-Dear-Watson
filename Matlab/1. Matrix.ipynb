{
 "cells": [
  {
   "cell_type": "markdown",
   "metadata": {},
   "source": [
    "# Your first code"
   ]
  },
  {
   "cell_type": "code",
   "execution_count": 1,
   "metadata": {},
   "outputs": [
    {
     "name": "stdout",
     "output_type": "stream",
     "text": [
      "\n",
      "ans = \n",
      "\n",
      "    \"Hello World\"\n",
      "\n",
      "\n"
     ]
    }
   ],
   "source": [
    "\"Hello World\""
   ]
  },
  {
   "cell_type": "code",
   "execution_count": 2,
   "metadata": {},
   "outputs": [
    {
     "name": "stdout",
     "output_type": "stream",
     "text": [
      "\n",
      "ans =\n",
      "\n",
      "    15\n",
      "\n",
      "\n",
      "a =\n",
      "\n",
      "     5\n",
      "\n",
      "\n"
     ]
    }
   ],
   "source": [
    "10 + 5\n",
    "a = 5"
   ]
  },
  {
   "cell_type": "markdown",
   "metadata": {},
   "source": [
    "##### cukup menggangu setiap mengetik di matlab akan muncul di command windows, agar tidak ditampilkan gunakan ;"
   ]
  },
  {
   "cell_type": "code",
   "execution_count": 4,
   "metadata": {},
   "outputs": [
    {
     "name": "stdout",
     "output_type": "stream",
     "text": [
      "\n"
     ]
    }
   ],
   "source": [
    "a = 10;"
   ]
  },
  {
   "cell_type": "markdown",
   "metadata": {},
   "source": [
    "## Matrix"
   ]
  },
  {
   "cell_type": "code",
   "execution_count": 5,
   "metadata": {},
   "outputs": [
    {
     "name": "stdout",
     "output_type": "stream",
     "text": [
      "\n",
      "a =\n",
      "\n",
      "     7\n",
      "\n",
      "\n"
     ]
    }
   ],
   "source": [
    "% Skalar\n",
    "a = 7 "
   ]
  },
  {
   "cell_type": "code",
   "execution_count": 6,
   "metadata": {},
   "outputs": [
    {
     "name": "stdout",
     "output_type": "stream",
     "text": [
      "\n",
      "b =\n",
      "\n",
      "     1     2     3     4     5\n",
      "\n",
      "\n",
      "c =\n",
      "\n",
      "     1\n",
      "     2\n",
      "     3\n",
      "     4\n",
      "     5\n",
      "\n",
      "\n"
     ]
    }
   ],
   "source": [
    "% Vektor\n",
    "b = [1 2 3 4 5] % Vektor baris\n",
    "c = [1;2;3;4;5] % Vektor kolom"
   ]
  },
  {
   "cell_type": "code",
   "execution_count": 7,
   "metadata": {},
   "outputs": [
    {
     "name": "stdout",
     "output_type": "stream",
     "text": [
      "\n",
      "d =\n",
      "\n",
      "     1     2\n",
      "     3     4\n",
      "\n",
      "\n"
     ]
    }
   ],
   "source": [
    "% Matrix\n",
    "d = [1 2; 3 4]"
   ]
  },
  {
   "cell_type": "code",
   "execution_count": 8,
   "metadata": {},
   "outputs": [
    {
     "name": "stdout",
     "output_type": "stream",
     "text": [
      "\n",
      "dt =\n",
      "\n",
      "     1     3\n",
      "     2     4\n",
      "\n",
      "\n",
      "bt =\n",
      "\n",
      "     1\n",
      "     2\n",
      "     3\n",
      "     4\n",
      "     5\n",
      "\n",
      "\n",
      "ct =\n",
      "\n",
      "     1     2     3     4     5\n",
      "\n",
      "\n"
     ]
    }
   ],
   "source": [
    "% Transpose \n",
    "dt = [1 2; 3 4]'\n",
    "bt = b'\n",
    "ct = c'"
   ]
  },
  {
   "cell_type": "code",
   "execution_count": 9,
   "metadata": {},
   "outputs": [
    {
     "name": "stdout",
     "output_type": "stream",
     "text": [
      "\n",
      "ans =\n",
      "\n",
      "     2     4     6     8    10\n",
      "\n",
      "\n",
      "ans =\n",
      "\n",
      "     0\n",
      "     0\n",
      "     0\n",
      "     0\n",
      "     0\n",
      "\n",
      "\n"
     ]
    }
   ],
   "source": [
    "% Penjumlahan Matriks\n",
    "% Ingat dimensi yang mau dijumlahkan harus sama\n",
    "b + ct\n",
    "bt - c"
   ]
  },
  {
   "cell_type": "markdown",
   "metadata": {},
   "source": [
    "#### Peralian Vektor"
   ]
  },
  {
   "cell_type": "code",
   "execution_count": 10,
   "metadata": {},
   "outputs": [
    {
     "name": "stdout",
     "output_type": "stream",
     "text": [
      "\n",
      "Amir =\n",
      "\n",
      "    55\n",
      "\n",
      "\n"
     ]
    }
   ],
   "source": [
    "% Dot Product\n",
    "Amir = dot(b,ct)"
   ]
  },
  {
   "cell_type": "code",
   "execution_count": 12,
   "metadata": {},
   "outputs": [
    {
     "name": "stdout",
     "output_type": "stream",
     "text": [
      "\n",
      "e =\n",
      "\n",
      "     1     3     4\n",
      "\n",
      "\n",
      "f =\n",
      "\n",
      "     6     7     8\n",
      "\n",
      "\n",
      "Amar =\n",
      "\n",
      "    -4    16   -11\n",
      "\n",
      "\n"
     ]
    }
   ],
   "source": [
    "% Cross product\n",
    "e = [1 3 4]\n",
    "f = [6 7 8]\n",
    "Amar = cross(e,f)"
   ]
  },
  {
   "cell_type": "code",
   "execution_count": 14,
   "metadata": {},
   "outputs": [
    {
     "name": "stdout",
     "output_type": "stream",
     "text": [
      "\n",
      "g =\n",
      "\n",
      "     1     2     3     4     5     1     3     4\n",
      "\n",
      "\n",
      "h =\n",
      "\n",
      "     1     2     3     4     5\n",
      "     1     2     3     4     5\n",
      "\n",
      "\n"
     ]
    }
   ],
   "source": [
    "% Menaggabungkan dua buah vektor\n",
    "g = [b e] % gabungin ke samping\n",
    "h = [b;ct] % gabungin ke bawah"
   ]
  },
  {
   "cell_type": "raw",
   "metadata": {},
   "source": [
    "i = [b;e] tidak bisa dilakukan karena memiliki dimensi yang berbeda\n",
    "jadi...."
   ]
  },
  {
   "cell_type": "code",
   "execution_count": 16,
   "metadata": {},
   "outputs": [
    {
     "name": "stdout",
     "output_type": "stream",
     "text": [
      "\n",
      "i =\n",
      "\n",
      "     1     2     3     4     5\n",
      "     1     3     4     7     8\n",
      "\n",
      "\n"
     ]
    }
   ],
   "source": [
    "i = [b;e 7 8]"
   ]
  },
  {
   "cell_type": "code",
   "execution_count": 19,
   "metadata": {},
   "outputs": [
    {
     "name": "stdout",
     "output_type": "stream",
     "text": [
      "\n"
     ]
    }
   ],
   "source": [
    "% Buat matrik A\n",
    "A = [1 2; 3 4];"
   ]
  },
  {
   "cell_type": "code",
   "execution_count": 20,
   "metadata": {},
   "outputs": [
    {
     "name": "stdout",
     "output_type": "stream",
     "text": [
      "\n",
      "ans =\n",
      "\n",
      "     1\n",
      "\n",
      "\n",
      "ans =\n",
      "\n",
      "     2\n",
      "\n",
      "\n",
      "ans =\n",
      "\n",
      "     3\n",
      "\n",
      "\n",
      "ans =\n",
      "\n",
      "     1     2\n",
      "\n",
      "\n",
      "ans =\n",
      "\n",
      "     1\n",
      "     3\n",
      "\n",
      "\n"
     ]
    }
   ],
   "source": [
    "% mengambil nilai tertentu pada matrix\n"
   ]
  },
  {
   "cell_type": "code",
   "execution_count": 22,
   "metadata": {},
   "outputs": [
    {
     "name": "stdout",
     "output_type": "stream",
     "text": [
      "\n",
      "ans =\n",
      "\n",
      "     1\n",
      "\n",
      "\n",
      "ans =\n",
      "\n",
      "     2\n",
      "\n",
      "\n",
      "ans =\n",
      "\n",
      "     3\n",
      "\n",
      "\n"
     ]
    }
   ],
   "source": [
    "%angka pertama baris, angka kedua kolom\n",
    "A(1,1)\n",
    "A(1,2)\n",
    "A(2,1)"
   ]
  },
  {
   "cell_type": "code",
   "execution_count": 23,
   "metadata": {},
   "outputs": [
    {
     "name": "stdout",
     "output_type": "stream",
     "text": [
      "\n",
      "ans =\n",
      "\n",
      "     1     2\n",
      "\n",
      "\n",
      "ans =\n",
      "\n",
      "     1\n",
      "     3\n",
      "\n",
      "\n"
     ]
    }
   ],
   "source": [
    "A(1,:) %mengambil semua baris pertama\n",
    "A(:,1) %mengambil semua kolom pertama"
   ]
  },
  {
   "cell_type": "code",
   "execution_count": 24,
   "metadata": {},
   "outputs": [
    {
     "name": "stdout",
     "output_type": "stream",
     "text": [
      "\n",
      "C =\n",
      "\n",
      "    19    22\n",
      "    43    50\n",
      "\n",
      "\n"
     ]
    }
   ],
   "source": [
    "B = [5 6; 7 8];\n",
    "\n",
    "% Perkalian Matriks (kolom dan baris)\n",
    "C = A*B "
   ]
  },
  {
   "cell_type": "code",
   "execution_count": 25,
   "metadata": {},
   "outputs": [
    {
     "name": "stdout",
     "output_type": "stream",
     "text": [
      "\n",
      "E =\n",
      "\n",
      "     5    12\n",
      "    21    32\n",
      "\n",
      "\n"
     ]
    }
   ],
   "source": [
    "% Perkalian korespondensi satu-satu\n",
    "E = A.*B"
   ]
  },
  {
   "cell_type": "code",
   "execution_count": 27,
   "metadata": {},
   "outputs": [
    {
     "name": "stdout",
     "output_type": "stream",
     "text": [
      "\n",
      "D =\n",
      "\n",
      "     7    10\n",
      "    15    22\n",
      "\n",
      "\n"
     ]
    }
   ],
   "source": [
    "% Kuadratin tiap elemen pada Matriks\n",
    "D = A^2"
   ]
  },
  {
   "cell_type": "raw",
   "metadata": {},
   "source": [
    "A*X=C\n",
    "Kita ingin tau kalau X nya apa?"
   ]
  },
  {
   "cell_type": "code",
   "execution_count": 29,
   "metadata": {},
   "outputs": [
    {
     "name": "stdout",
     "output_type": "stream",
     "text": [
      "\n",
      "X =\n",
      "\n",
      "    5.0000    6.0000\n",
      "    7.0000    8.0000\n",
      "\n",
      "\n"
     ]
    }
   ],
   "source": [
    "% Pembagian Matriks\n",
    "% Left Division\n",
    "X = A\\C %(didapat nilai B)\n",
    "%type outputnya double (tidak integer lagi)\n",
    "%karena di invers Anya"
   ]
  },
  {
   "cell_type": "code",
   "execution_count": 31,
   "metadata": {},
   "outputs": [
    {
     "name": "stdout",
     "output_type": "stream",
     "text": [
      "\n",
      "Y =\n",
      "\n",
      "    1.0000    2.0000\n",
      "    3.0000    4.0000\n",
      "\n",
      "\n"
     ]
    }
   ],
   "source": [
    "% Right Division\n",
    "Y = C/B %(didapat nilai A)"
   ]
  }
 ],
 "metadata": {
  "kernelspec": {
   "display_name": "Matlab",
   "language": "matlab",
   "name": "matlab"
  },
  "language_info": {
   "codemirror_mode": "octave",
   "file_extension": ".m",
   "help_links": [
    {
     "text": "MetaKernel Magics",
     "url": "https://github.com/calysto/metakernel/blob/master/metakernel/magics/README.md"
    }
   ],
   "mimetype": "text/x-octave",
   "name": "matlab",
   "version": "0.16.1"
  }
 },
 "nbformat": 4,
 "nbformat_minor": 2
}
