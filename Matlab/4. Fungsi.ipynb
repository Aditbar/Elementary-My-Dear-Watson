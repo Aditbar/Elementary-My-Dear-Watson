{
 "cells": [
  {
   "cell_type": "markdown",
   "metadata": {},
   "source": [
    "# Fungsi"
   ]
  },
  {
   "cell_type": "raw",
   "metadata": {},
   "source": [
    "konsepnya\n",
    "\n",
    "Input -> Fungsi -> output\n",
    "ingat-ingat, inputnya apa, berapa banyaknya, outputnya apa, berapa banyaknya"
   ]
  },
  {
   "cell_type": "markdown",
   "metadata": {},
   "source": [
    "### fungsi membuat matrix"
   ]
  },
  {
   "cell_type": "code",
   "execution_count": 3,
   "metadata": {},
   "outputs": [
    {
     "name": "stdout",
     "output_type": "stream",
     "text": [
      "\n",
      "ans =\n",
      "\n",
      "     0     0\n",
      "     0     0\n",
      "\n",
      "\n"
     ]
    }
   ],
   "source": [
    "zeros(2)"
   ]
  },
  {
   "cell_type": "code",
   "execution_count": 4,
   "metadata": {},
   "outputs": [
    {
     "name": "stdout",
     "output_type": "stream",
     "text": [
      "\n",
      "ans =\n",
      "\n",
      "     1     1\n",
      "     1     1\n",
      "\n",
      "\n"
     ]
    }
   ],
   "source": [
    "ones(2)"
   ]
  },
  {
   "cell_type": "code",
   "execution_count": 9,
   "metadata": {},
   "outputs": [
    {
     "name": "stdout",
     "output_type": "stream",
     "text": [
      "\n",
      "A =\n",
      "\n",
      "     1     2\n",
      "     3     4\n",
      "\n",
      "\n",
      "ans =\n",
      "\n",
      "   -2.0000    1.0000\n",
      "    1.5000   -0.5000\n",
      "\n",
      "\n"
     ]
    }
   ],
   "source": [
    "A = [1 2; 3 4]\n",
    "inv(A)"
   ]
  },
  {
   "cell_type": "markdown",
   "metadata": {},
   "source": [
    "## Membuat Fungsi"
   ]
  },
  {
   "cell_type": "raw",
   "metadata": {},
   "source": [
    "agak berbeda dengan matlab yang kalian biasa gunakan\n",
    "untuk membuat m file di sini perlu %%file name_file.m\n",
    "di matlab biasa tidak perlu menuliskan seperti itu"
   ]
  },
  {
   "cell_type": "markdown",
   "metadata": {},
   "source": [
    "### membuat fungsi tanpa input"
   ]
  },
  {
   "cell_type": "code",
   "execution_count": 34,
   "metadata": {},
   "outputs": [
    {
     "name": "stdout",
     "output_type": "stream",
     "text": [
      "Created file 'D:\\Codingan\\Matlab\\Tutorial\\fungsi_1.m'.\n"
     ]
    }
   ],
   "source": [
    "%%file fungsi_1.m\n",
    "clear \n",
    "clc\n",
    "\n",
    "pengurangan\n",
    "jumlah\n",
    "\n",
    "% fungsi sederhana\n",
    "function jumlah\n",
    "    a = 1;\n",
    "    b = 2;\n",
    "    c = a+b\n",
    "end\n",
    "\n",
    "function pengurangan\n",
    "    a = 2;\n",
    "    b = 1;\n",
    "    c = a-b\n",
    "end"
   ]
  },
  {
   "cell_type": "code",
   "execution_count": 36,
   "metadata": {},
   "outputs": [
    {
     "name": "stdout",
     "output_type": "stream",
     "text": [
      "\n",
      "c =\n",
      "\n",
      "     1\n",
      "\n",
      "\n",
      "c =\n",
      "\n",
      "     3\n",
      "\n",
      "\n"
     ]
    }
   ],
   "source": [
    "fungsi_1\n",
    "% fungsi yang dipanggil akan sesuai denagn urutan\n",
    "% fungsi pengurangan baru jumlah"
   ]
  },
  {
   "cell_type": "code",
   "execution_count": 40,
   "metadata": {},
   "outputs": [
    {
     "name": "stderr",
     "output_type": "stream",
     "text": [
      "\u001b[1;31mUndefined function or variable 'a'.\n",
      "\n",
      "\u001b[0m"
     ]
    },
    {
     "ename": "Error",
     "evalue": -1,
     "output_type": "error",
     "traceback": "Undefined function or variable 'a'.\n"
    }
   ],
   "source": [
    "% perhatikan kita tidak bisa memanggil nilai a b ataupun c\n",
    "a\n",
    "b\n",
    "c\n",
    "% karena mereka ada di dalam fungsi, ini disebut local scope"
   ]
  },
  {
   "cell_type": "markdown",
   "metadata": {},
   "source": [
    "### membuat global scope"
   ]
  },
  {
   "cell_type": "code",
   "execution_count": 50,
   "metadata": {},
   "outputs": [
    {
     "name": "stdout",
     "output_type": "stream",
     "text": [
      "Created file 'D:\\Codingan\\Matlab\\Tutorial\\fungsi_1.m'.\n"
     ]
    }
   ],
   "source": [
    "%%file fungsi_1.m\n",
    "\n",
    "clear \n",
    "clc\n",
    "\n",
    "global c\n",
    "jumlah\n",
    "pengurangan\n",
    "\n",
    "% fungsi sederhana\n",
    "function jumlah\n",
    "% memanggil global scope\n",
    "    global c;\n",
    "\n",
    "    a = 1;\n",
    "    b = 2;\n",
    "    c = a+b\n",
    "end\n",
    "\n",
    "function pengurangan\n",
    "    a = 2;\n",
    "    b = 1;\n",
    "    c = a-b\n",
    "end\n",
    "\n",
    "% semua yang berada diantara function dan end adalah LOCAL SCOPE\n",
    "% LOCAL SCOPE tidak akan berubah nilainya\n",
    "% Termasuk C nya sendiri, Local scope"
   ]
  },
  {
   "cell_type": "code",
   "execution_count": 51,
   "metadata": {},
   "outputs": [
    {
     "name": "stdout",
     "output_type": "stream",
     "text": [
      "\n",
      "c =\n",
      "\n",
      "     3\n",
      "\n",
      "\n",
      "c =\n",
      "\n",
      "     1\n",
      "\n",
      "\n",
      "c =\n",
      "\n",
      "     3\n",
      "\n",
      "\n"
     ]
    }
   ],
   "source": [
    "fungsi_1\n",
    "c"
   ]
  },
  {
   "cell_type": "markdown",
   "metadata": {},
   "source": [
    "### membuat fungsi dengan input\n"
   ]
  },
  {
   "cell_type": "code",
   "execution_count": 60,
   "metadata": {},
   "outputs": [
    {
     "name": "stdout",
     "output_type": "stream",
     "text": [
      "Created file 'D:\\Codingan\\Matlab\\Tutorial\\fungsi_2.m'.\n"
     ]
    }
   ],
   "source": [
    "%%file fungsi_2.m\n",
    "clear\n",
    "clc\n",
    "\n",
    "a = linspace(-5,5,20);\n",
    "parabola(a,1,1)\n",
    "hold on\n",
    "parabola(a,2,2)\n",
    "parabola(a,3,3)\n",
    "parabola(a,4,4)\n",
    "hold off\n",
    "\n",
    "function parabola (x,p,c)\n",
    "    y = p*x.^2+c\n",
    "    plot(x,y)\n",
    "end"
   ]
  },
  {
   "cell_type": "code",
   "execution_count": 61,
   "metadata": {},
   "outputs": [
    {
     "name": "stdout",
     "output_type": "stream",
     "text": [
      "\n",
      "y =\n",
      "\n",
      "  Columns 1 through 13\n",
      "\n",
      "   26.0000   21.0139   16.5817   12.7036    9.3795    6.6094    4.3934    2.7313    1.6233    1.0693    1.0693    1.6233    2.7313\n",
      "\n",
      "  Columns 14 through 20\n",
      "\n",
      "    4.3934    6.6094    9.3795   12.7036   16.5817   21.0139   26.0000\n",
      "\n",
      "\n",
      "y =\n",
      "\n",
      "  Columns 1 through 13\n",
      "\n",
      "   52.0000   42.0277   33.1634   25.4072   18.7590   13.2188    8.7867    5.4626    3.2465    2.1385    2.1385    3.2465    5.4626\n",
      "\n",
      "  Columns 14 through 20\n",
      "\n",
      "    8.7867   13.2188   18.7590   25.4072   33.1634   42.0277   52.0000\n",
      "\n",
      "\n",
      "y =\n",
      "\n",
      "  Columns 1 through 13\n",
      "\n",
      "   78.0000   63.0416   49.7452   38.1108   28.1385   19.8283   13.1801    8.1939    4.8698    3.2078    3.2078    4.8698    8.1939\n",
      "\n",
      "  Columns 14 through 20\n",
      "\n",
      "   13.1801   19.8283   28.1385   38.1108   49.7452   63.0416   78.0000\n",
      "\n",
      "\n",
      "y =\n",
      "\n",
      "  Columns 1 through 13\n",
      "\n",
      "  104.0000   84.0554   66.3269   50.8144   37.5180   26.4377   17.5734   10.9252    6.4931    4.2770    4.2770    6.4931   10.9252\n",
      "\n",
      "  Columns 14 through 20\n",
      "\n",
      "   17.5734   26.4377   37.5180   50.8144   66.3269   84.0554  104.0000\n",
      "\n",
      "\n"
     ]
    },
    {
     "data": {
      "image/png": "[encoded data removed]",
      "text/plain": [
       "<IPython.core.display.Image object>"
      ]
     },
     "metadata": {},
     "output_type": "display_data"
    }
   ],
   "source": [
    "fungsi_2"
   ]
  },
  {
   "cell_type": "markdown",
   "metadata": {},
   "source": [
    "### Fungsi dengan input dan output"
   ]
  },
  {
   "cell_type": "code",
   "execution_count": 54,
   "metadata": {},
   "outputs": [
    {
     "name": "stdout",
     "output_type": "stream",
     "text": [
      "Created file 'D:\\Codingan\\Matlab\\Tutorial\\fungsi_3.m'.\n"
     ]
    }
   ],
   "source": [
    "%%file fungsi_3.m\n",
    "% fungsi dengan output dan input\n",
    "\n",
    "[xling, yling] = lingkaran(5);\n",
    "[xling2, yling2] = lingkaran(4);\n",
    "[xling3, yling3] = lingkaran(3);\n",
    "[xling4, yling4] = lingkaran(2);\n",
    "plot(xling,yling,xling2,yling2,xling3,yling3,xling4,yling4)\n",
    "\n",
    "function [x, y] = lingkaran(r);\n",
    "    sudut = linspace(0,2*pi,100);\n",
    "    x = r*cos(sudut);\n",
    "    y = r*sin(sudut);\n",
    "end\n",
    "% dari fungsi akan menghasilkan nilai x dan y"
   ]
  },
  {
   "cell_type": "code",
   "execution_count": 63,
   "metadata": {},
   "outputs": [
    {
     "name": "stdout",
     "output_type": "stream",
     "text": [
      "\n",
      "xling =\n",
      "\n",
      "  Columns 1 through 13\n",
      "\n",
      "    5.0000    4.9899    4.9598    4.9096    4.8397    4.7504    4.6418    4.5146    4.3692    4.2063    4.0264    3.8302    3.6187\n",
      "\n",
      "  Columns 14 through 26\n",
      "\n",
      "    3.3925    3.1528    2.9003    2.6361    2.3614    2.0771    1.7844    1.4846    1.1788    0.8682    0.5542    0.2379   -0.0793\n",
      "\n",
      "  Columns 27 through 39\n",
      "\n",
      "   -0.3962   -0.7116   -1.0240   -1.3324   -1.6353   -1.9317   -2.2203   -2.5000   -2.7696   -3.0280   -3.2743   -3.5074   -3.7263\n",
      "\n",
      "  Columns 40 through 52\n",
      "\n",
      "   -3.9303   -4.1184   -4.2899   -4.4442   -4.5805   -4.6985   -4.7975   -4.8771   -4.9372   -4.9774   -4.9975   -4.9975   -4.9774\n",
      "\n",
      "  Columns 53 through 65\n",
      "\n",
      "   -4.9372   -4.8771   -4.7975   -4.6985   -4.5805   -4.4442   -4.2899   -4.1184   -3.9303   -3.7263   -3.5074   -3.2743   -3.0280\n",
      "\n",
      "  Columns 66 through 78\n",
      "\n",
      "   -2.7696   -2.5000   -2.2203   -1.9317   -1.6353   -1.3324   -1.0240   -0.7116   -0.3962   -0.0793    0.2379    0.5542    0.8682\n",
      "\n",
      "  Columns 79 through 91\n",
      "\n",
      "    1.1788    1.4846    1.7844    2.0771    2.3614    2.6361    2.9003    3.1528    3.3925    3.6187    3.8302    4.0264    4.2063\n",
      "\n",
      "  Columns 92 through 100\n",
      "\n",
      "    4.3692    4.5146    4.6418    4.7504    4.8397    4.9096    4.9598    4.9899    5.0000\n",
      "\n",
      "\n",
      "yling =\n",
      "\n",
      "  Columns 1 through 13\n",
      "\n",
      "         0    0.3171    0.6330    0.9463    1.2557    1.5602    1.8583    2.1490    2.4310    2.7032    2.9645    3.2139    3.4504\n",
      "\n",
      "  Columns 14 through 26\n",
      "\n",
      "    3.6730    3.8807    4.0729    4.2486    4.4073    4.5482    4.6707    4.7745    4.8591    4.9240    4.9692    4.9943    4.9994\n",
      "\n",
      "  Columns 27 through 39\n",
      "\n",
      "    4.9843    4.9491    4.8940    4.8192    4.7250    4.6118    4.4800    4.3301    4.1628    3.9788    3.7787    3.5635    3.3338\n",
      "\n",
      "  Columns 40 through 52\n",
      "\n",
      "    3.0908    2.8353    2.5684    2.2911    2.0047    1.7101    1.4087    1.1016    0.7900    0.4753    0.1586   -0.1586   -0.4753\n",
      "\n",
      "  Columns 53 through 65\n",
      "\n",
      "   -0.7900   -1.1016   -1.4087   -1.7101   -2.0047   -2.2911   -2.5684   -2.8353   -3.0908   -3.3338   -3.5635   -3.7787   -3.9788\n",
      "\n",
      "  Columns 66 through 78\n",
      "\n",
      "   -4.1628   -4.3301   -4.4800   -4.6118   -4.7250   -4.8192   -4.8940   -4.9491   -4.9843   -4.9994   -4.9943   -4.9692   -4.9240\n",
      "\n",
      "  Columns 79 through 91\n",
      "\n",
      "   -4.8591   -4.7745   -4.6707   -4.5482   -4.4073   -4.2486   -4.0729   -3.8807   -3.6730   -3.4504   -3.2139   -2.9645   -2.7032\n",
      "\n",
      "  Columns 92 through 100\n",
      "\n",
      "   -2.4310   -2.1490   -1.8583   -1.5602   -1.2557   -0.9463   -0.6330   -0.3171   -0.0000\n",
      "\n",
      "\n"
     ]
    },
    {
     "data": {
      "image/png": "[encoded data removed]",
      "text/plain": [
       "<IPython.core.display.Image object>"
      ]
     },
     "metadata": {},
     "output_type": "display_data"
    }
   ],
   "source": [
    "fungsi_3\n",
    "\n",
    "xling\n",
    "\n",
    "yling"
   ]
  },
  {
   "cell_type": "markdown",
   "metadata": {},
   "source": [
    "### membuat fungsi external\n",
    "pastikan ada di folder yang sama"
   ]
  },
  {
   "cell_type": "code",
   "execution_count": 79,
   "metadata": {},
   "outputs": [
    {
     "name": "stdout",
     "output_type": "stream",
     "text": [
      "Created file 'D:\\Codingan\\Matlab\\Tutorial\\fungsi_5.m'.\n"
     ]
    }
   ],
   "source": [
    "%%file fungsi_5.m\n",
    "function [x,y] = fungsi_5(r,posx,posy)\n",
    "% fungsi_5 adalah fungsi untuk membuat LINGKARAN\n",
    "%     [x,y] = lingkaran(r,posx,posy)\n",
    "%    \n",
    "%    r = radius\n",
    "%    posx = titik pusat x0\n",
    "%    posy = titik pusat y0\n",
    "\n",
    "    theta = linspace(0, 2*pi, 100);\n",
    "    x = r*cos(theta) + posx;\n",
    "    y = r*sin(theta) + posy;\n",
    "end"
   ]
  },
  {
   "cell_type": "code",
   "execution_count": 80,
   "metadata": {},
   "outputs": [
    {
     "name": "stdout",
     "output_type": "stream",
     "text": [
      "  fungsi_5 adalah fungsi untuk membuat LINGKARAN\n",
      "      [x,y] = lingkaran(r,posx,posy)\n",
      "     \n",
      "     r = radius\n",
      "     posx = titik pusat x0\n",
      "     posy = titik pusat y0\n",
      "\n",
      "\n"
     ]
    }
   ],
   "source": [
    "help fungsi_5"
   ]
  },
  {
   "cell_type": "markdown",
   "metadata": {},
   "source": [
    "bisa buat contekan wkwkwkwkwkwkwkwk"
   ]
  },
  {
   "cell_type": "code",
   "execution_count": 83,
   "metadata": {},
   "outputs": [
    {
     "name": "stdout",
     "output_type": "stream",
     "text": [
      "Created file 'D:\\Codingan\\Matlab\\Tutorial\\fungsi_4.m'.\n"
     ]
    }
   ],
   "source": [
    "%%file fungsi_4.m\n",
    "clear \n",
    "clc\n",
    "\n",
    "% Membuat Fungsi External\n",
    "\n",
    "jari = 5;\n",
    "x0 = 0;\n",
    "y0 = 0;"
   ]
  },
  {
   "cell_type": "code",
   "execution_count": 84,
   "metadata": {},
   "outputs": [
    {
     "name": "stdout",
     "output_type": "stream",
     "text": [
      "\n",
      "ans =\n",
      "\n",
      "    5.0000\n",
      "    4.9899\n",
      "    4.9598\n",
      "    4.9096\n",
      "    4.8397\n",
      "    4.7504\n",
      "    4.6418\n",
      "    4.5146\n",
      "    4.3692\n",
      "    4.2063\n",
      "    4.0264\n",
      "    3.8302\n",
      "    3.6187\n",
      "    3.3925\n",
      "    3.1528\n",
      "    2.9003\n",
      "    2.6361\n",
      "    2.3614\n",
      "    2.0771\n",
      "    1.7844\n",
      "    1.4846\n",
      "    1.1788\n",
      "    0.8682\n",
      "    0.5542\n",
      "    0.2379\n",
      "   -0.0793\n",
      "   -0.3962\n",
      "   -0.7116\n",
      "   -1.0240\n",
      "   -1.3324\n",
      "   -1.6353\n",
      "   -1.9317\n",
      "   -2.2203\n",
      "   -2.5000\n",
      "   -2.7696\n",
      "   -3.0280\n",
      "   -3.2743\n",
      "   -3.5074\n",
      "   -3.7263\n",
      "   -3.9303\n",
      "   -4.1184\n",
      "   -4.2899\n",
      "   -4.4442\n",
      "   -4.5805\n",
      "   -4.6985\n",
      "   -4.7975\n",
      "   -4.8771\n",
      "   -4.9372\n",
      "   -4.9774\n",
      "   -4.9975\n",
      "   -4.9975\n",
      "   -4.9774\n",
      "   -4.9372\n",
      "   -4.8771\n",
      "   -4.7975\n",
      "   -4.6985\n",
      "   -4.5805\n",
      "   -4.4442\n",
      "   -4.2899\n",
      "   -4.1184\n",
      "   -3.9303\n",
      "   -3.7263\n",
      "   -3.5074\n",
      "   -3.2743\n",
      "   -3.0280\n",
      "   -2.7696\n",
      "   -2.5000\n",
      "   -2.2203\n",
      "   -1.9317\n",
      "   -1.6353\n",
      "   -1.3324\n",
      "   -1.0240\n",
      "   -0.7116\n",
      "   -0.3962\n",
      "   -0.0793\n",
      "    0.2379\n",
      "    0.5542\n",
      "    0.8682\n",
      "    1.1788\n",
      "    1.4846\n",
      "    1.7844\n",
      "    2.0771\n",
      "    2.3614\n",
      "    2.6361\n",
      "    2.9003\n",
      "    3.1528\n",
      "    3.3925\n",
      "    3.6187\n",
      "    3.8302\n",
      "    4.0264\n",
      "    4.2063\n",
      "    4.3692\n",
      "    4.5146\n",
      "    4.6418\n",
      "    4.7504\n",
      "    4.8397\n",
      "    4.9096\n",
      "    4.9598\n",
      "    4.9899\n",
      "    5.0000\n",
      "\n",
      "\n",
      "ans =\n",
      "\n",
      "         0\n",
      "    0.3171\n",
      "    0.6330\n",
      "    0.9463\n",
      "    1.2557\n",
      "    1.5602\n",
      "    1.8583\n",
      "    2.1490\n",
      "    2.4310\n",
      "    2.7032\n",
      "    2.9645\n",
      "    3.2139\n",
      "    3.4504\n",
      "    3.6730\n",
      "    3.8807\n",
      "    4.0729\n",
      "    4.2486\n",
      "    4.4073\n",
      "    4.5482\n",
      "    4.6707\n",
      "    4.7745\n",
      "    4.8591\n",
      "    4.9240\n",
      "    4.9692\n",
      "    4.9943\n",
      "    4.9994\n",
      "    4.9843\n",
      "    4.9491\n",
      "    4.8940\n",
      "    4.8192\n",
      "    4.7250\n",
      "    4.6118\n",
      "    4.4800\n",
      "    4.3301\n",
      "    4.1628\n",
      "    3.9788\n",
      "    3.7787\n",
      "    3.5635\n",
      "    3.3338\n",
      "    3.0908\n",
      "    2.8353\n",
      "    2.5684\n",
      "    2.2911\n",
      "    2.0047\n",
      "    1.7101\n",
      "    1.4087\n",
      "    1.1016\n",
      "    0.7900\n",
      "    0.4753\n",
      "    0.1586\n",
      "   -0.1586\n",
      "   -0.4753\n",
      "   -0.7900\n",
      "   -1.1016\n",
      "   -1.4087\n",
      "   -1.7101\n",
      "   -2.0047\n",
      "   -2.2911\n",
      "   -2.5684\n",
      "   -2.8353\n",
      "   -3.0908\n",
      "   -3.3338\n",
      "   -3.5635\n",
      "   -3.7787\n",
      "   -3.9788\n",
      "   -4.1628\n",
      "   -4.3301\n",
      "   -4.4800\n",
      "   -4.6118\n",
      "   -4.7250\n",
      "   -4.8192\n",
      "   -4.8940\n",
      "   -4.9491\n",
      "   -4.9843\n",
      "   -4.9994\n",
      "   -4.9943\n",
      "   -4.9692\n",
      "   -4.9240\n",
      "   -4.8591\n",
      "   -4.7745\n",
      "   -4.6707\n",
      "   -4.5482\n",
      "   -4.4073\n",
      "   -4.2486\n",
      "   -4.0729\n",
      "   -3.8807\n",
      "   -3.6730\n",
      "   -3.4504\n",
      "   -3.2139\n",
      "   -2.9645\n",
      "   -2.7032\n",
      "   -2.4310\n",
      "   -2.1490\n",
      "   -1.8583\n",
      "   -1.5602\n",
      "   -1.2557\n",
      "   -0.9463\n",
      "   -0.6330\n",
      "   -0.3171\n",
      "   -0.0000\n",
      "\n",
      "\n"
     ]
    },
    {
     "data": {
      "image/png": "[encoded data removed]",
      "text/plain": [
       "<IPython.core.display.Image object>"
      ]
     },
     "metadata": {},
     "output_type": "display_data"
    }
   ],
   "source": [
    "fungsi_4\n",
    "hasilx'\n",
    "\n",
    "hasily'"
   ]
  },
  {
   "cell_type": "code",
   "execution_count": 85,
   "metadata": {},
   "outputs": [
    {
     "name": "stdout",
     "output_type": "stream",
     "text": [
      "\n"
     ]
    },
    {
     "data": {
      "image/png": "[encoded data removed]",
      "text/plain": [
       "<IPython.core.display.Image object>"
      ]
     },
     "metadata": {},
     "output_type": "display_data"
    }
   ],
   "source": [
    "[hasilx, hasily] = fungsi_5(jari,x0,y0);\n",
    "[x2,y2] = fungsi_5(1,2,0);\n",
    "[x3,y3] = fungsi_5(1,-2,0);\n",
    "\n",
    "figure(1)\n",
    "plot(hasilx,hasily)\n",
    "hold on\n",
    "plot(x2,y2)\n",
    "plot(x3,y3)\n",
    "hold off"
   ]
  },
  {
   "cell_type": "code",
   "execution_count": null,
   "metadata": {},
   "outputs": [],
   "source": []
  }
 ],
 "metadata": {
  "kernelspec": {
   "display_name": "Matlab",
   "language": "matlab",
   "name": "matlab"
  },
  "language_info": {
   "codemirror_mode": "octave",
   "file_extension": ".m",
   "help_links": [
    {
     "text": "MetaKernel Magics",
     "url": "https://github.com/calysto/metakernel/blob/master/metakernel/magics/README.md"
    }
   ],
   "mimetype": "text/x-octave",
   "name": "matlab",
   "version": "0.16.1"
  }
 },
 "nbformat": 4,
 "nbformat_minor": 2
}
